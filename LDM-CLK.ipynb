{
 "cells": [
  {
   "cell_type": "markdown",
   "id": "6852c2cd-3976-4c45-a818-b1ee2bec05ec",
   "metadata": {},
   "source": [
    "# LDM-CLK: Machine Learning-Based Enhancement for Intrusion Detection in IoT Networks\n",
    "Code for the Capstone Project: \"Machine Learning-Based Enhancement for Intrusion Detection in IoT Networks\" <br>       Published by: Gavin Goh Kai-Wen (20006557) <br>                                                                  Supervisor: Dr Athirah Mohd Ramly <br>                                                                        Organization: Sunway University  <br>                                                                            Programme: BSC (HONS) INFORMATION TECHNOLOGY (COMPUTER NETWORKING AND SECURITY) "
   ]
  },
  {
   "cell_type": "markdown",
   "id": "bc3ebb89-df2f-4151-bcff-855989d7f493",
   "metadata": {},
   "source": [
    "## Intialization of Libraries"
   ]
  },
  {
   "cell_type": "code",
   "execution_count": 1,
   "id": "931307d2-d715-4882-8ece-2d3f7638a0ef",
   "metadata": {},
   "outputs": [],
   "source": [
    "import warnings\n",
    "warnings.filterwarnings(\"ignore\")"
   ]
  },
  {
   "cell_type": "code",
   "execution_count": 8,
   "id": "1eba8e56-16e2-411c-a402-4e46f213d9f3",
   "metadata": {},
   "outputs": [],
   "source": [
    "# Programming Language\n",
    "import numpy as np\n",
    "\n",
    "# Data Analytic and Visualization \n",
    "import pandas as pd\n",
    "import seaborn as sns\n",
    "\n",
    "# Metrics and Plotting\n",
    "import matplotlib.pyplot as plt\n",
    "from sklearn.metrics import classification_report,confusion_matrix,accuracy_score,precision_recall_fscore_support\n",
    "from sklearn.metrics import f1_score,roc_auc_score\n",
    "\n",
    "# Data Preprocessing and Feature Engineering\n",
    "from sklearn.preprocessing import LabelEncoder\n",
    "from sklearn.model_selection import train_test_split\n",
    "\n",
    "# Machine Learning Models (DT, LIGHTGBM, MLP)\n",
    "from sklearn.tree import DecisionTreeClassifier\n",
    "from sklearn.neural_network import MLPClassifier\n",
    "from sklearn.neural_network import MLPRegressor\n",
    "import lightgbm as lgb\n",
    "from lightgbm import plot_importance"
   ]
  },
  {
   "cell_type": "markdown",
   "id": "934ebcfb-50b3-48d3-964a-27a2c73a3def",
   "metadata": {},
   "source": [
    "## Dataset 1: CICIDS2017"
   ]
  },
  {
   "cell_type": "markdown",
   "id": "7f171fdc-2f67-42ea-a12f-06031f6765a4",
   "metadata": {},
   "source": [
    "### Preperation of Dataset 1"
   ]
  },
  {
   "cell_type": "markdown",
   "id": "698581ca-8bea-489f-9435-38caa2a8b3bc",
   "metadata": {},
   "source": [
    "#### Reading Dataset 1"
   ]
  },
  {
   "cell_type": "code",
   "execution_count": 10,
   "id": "15ea2e3c-dc9f-473f-bcf4-86787f2a1e30",
   "metadata": {},
   "outputs": [],
   "source": [
    "#Read dataset\n",
    "df = pd.read_csv('./Datasets/CICIDS2017_sample.csv') "
   ]
  },
  {
   "cell_type": "code",
   "execution_count": null,
   "id": "0d82c1c5-22ec-4d61-9bb0-840685f720e1",
   "metadata": {},
   "outputs": [],
   "source": []
  }
 ],
 "metadata": {
  "kernelspec": {
   "display_name": "Python 3 (ipykernel)",
   "language": "python",
   "name": "python3"
  },
  "language_info": {
   "codemirror_mode": {
    "name": "ipython",
    "version": 3
   },
   "file_extension": ".py",
   "mimetype": "text/x-python",
   "name": "python",
   "nbconvert_exporter": "python",
   "pygments_lexer": "ipython3",
   "version": "3.11.5"
  }
 },
 "nbformat": 4,
 "nbformat_minor": 5
}
